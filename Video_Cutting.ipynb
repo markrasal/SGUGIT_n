{
  "nbformat": 4,
  "nbformat_minor": 0,
  "metadata": {
    "colab": {
      "provenance": []
    },
    "kernelspec": {
      "name": "python3",
      "display_name": "Python 3"
    },
    "language_info": {
      "name": "python"
    }
  },
  "cells": [
    {
      "cell_type": "code",
      "source": [
        "import os\n",
        "import cv2\n",
        "import gdown\n",
        "import shutil\n",
        "import numpy as np\n",
        "from PIL import Image\n",
        "import numpy as np\n",
        "from PIL import Image\n",
        "from pathlib import Path\n",
        "!pip install imagehash\n",
        "from imagehash import average_hash"
      ],
      "metadata": {
        "colab": {
          "base_uri": "https://localhost:8080/"
        },
        "id": "hNZ5PRkpFCdK",
        "outputId": "fe73defb-3da9-4930-ef85-dcea5165df53"
      },
      "execution_count": null,
      "outputs": [
        {
          "output_type": "stream",
          "name": "stdout",
          "text": [
            "Requirement already satisfied: imagehash in /usr/local/lib/python3.10/dist-packages (4.3.1)\n",
            "Requirement already satisfied: PyWavelets in /usr/local/lib/python3.10/dist-packages (from imagehash) (1.4.1)\n",
            "Requirement already satisfied: numpy in /usr/local/lib/python3.10/dist-packages (from imagehash) (1.23.5)\n",
            "Requirement already satisfied: pillow in /usr/local/lib/python3.10/dist-packages (from imagehash) (9.4.0)\n",
            "Requirement already satisfied: scipy in /usr/local/lib/python3.10/dist-packages (from imagehash) (1.11.3)\n"
          ]
        }
      ]
    },
    {
      "cell_type": "code",
      "source": [
        "import re\n",
        "\n",
        "# Define the Google Drive URL\n",
        "drive_url = \"https://drive.google.com/file/d/13JlxoeE1CAo8zEwJKUrpDtaqO9gtyt-4/view?usp=sharing\"\n",
        "\n",
        "# Use regular expression to extract the file_id\n",
        "file_id_match = re.search(r\"/file/d/([^/]+)\", drive_url)\n",
        "\n",
        "if file_id_match:\n",
        "    file_id = file_id_match.group(1)\n",
        "    print(f\"File ID: {file_id}\")\n",
        "else:\n",
        "    print(\"File ID not found in the URL.\")\n"
      ],
      "metadata": {
        "id": "xTWKBO4PFEr8",
        "colab": {
          "base_uri": "https://localhost:8080/"
        },
        "outputId": "3ab04681-f4c6-42e8-dfc5-ad32425bf119"
      },
      "execution_count": null,
      "outputs": [
        {
          "output_type": "stream",
          "name": "stdout",
          "text": [
            "File ID: 13JlxoeE1CAo8zEwJKUrpDtaqO9gtyt-4\n"
          ]
        }
      ]
    },
    {
      "cell_type": "code",
      "source": [
        "import os\n",
        "import cv2\n",
        "import gdown\n",
        "import shutil\n",
        "from PIL import Image\n",
        "from imagehash import dhash\n",
        "\n",
        "file_id = '13JlxoeE1CAo8zEwJKUrpDtaqO9gtyt-4'\n",
        "\n",
        "# Define the URL for the shared file\n",
        "url = f\"https://drive.google.com/uc?id={file_id}\"\n",
        "\n",
        "# Specify the destination folder\n",
        "output_folder = \"/content/extracted_images\"\n",
        "os.makedirs(output_folder, exist_ok=True)\n",
        "\n",
        "# Download the video file\n",
        "output_video_file = os.path.join(output_folder, \"video.mp4\")\n",
        "gdown.download(url, output_video_file, quiet=False)\n",
        "\n",
        "# Create folders for extracted images, similar images, and split images\n",
        "output_snapshots_folder = os.path.join(output_folder, \"folder_1\")\n",
        "os.makedirs(output_snapshots_folder, exist_ok=True)\n",
        "output_similar_images_folder = os.path.join(output_folder, \"folder_2\")\n",
        "os.makedirs(output_similar_images_folder, exist_ok=True)\n",
        "\n",
        "# Open the video file\n",
        "cap = cv2.VideoCapture(output_video_file)\n",
        "fps = int(cap.get(cv2.CAP_PROP_FPS))\n",
        "frame_count = 0\n",
        "previous_frame = None\n",
        "\n",
        "# Function to check if two images are similar using dhash\n",
        "def are_images_similar(image1, image2, threshold=10):\n",
        "    hash1 = dhash(image1)\n",
        "    hash2 = dhash(image2)\n",
        "    return hash1 - hash2 <= threshold\n",
        "\n",
        "while True:\n",
        "    ret, frame = cap.read()\n",
        "\n",
        "    if not ret:\n",
        "        break\n",
        "\n",
        "    if frame_count % fps == 0:  # Capture 1 frame per second\n",
        "        # Save the frame as an image in folder_1\n",
        "        image_path = os.path.join(output_snapshots_folder, f\"frame_{frame_count//fps}.png\")\n",
        "        cv2.imwrite(image_path, frame)  # Save as PNG format\n",
        "\n",
        "        # Check for similar images in folder_1 and copy only the first of the similar images\n",
        "        if previous_frame:\n",
        "            current_image = Image.open(image_path)\n",
        "            previous_image = Image.open(previous_frame)\n",
        "            if are_images_similar(current_image, previous_image, threshold=10):\n",
        "                os.remove(image_path)\n",
        "            else:\n",
        "                previous_frame = image_path\n",
        "        else:\n",
        "            previous_frame = image_path\n",
        "\n",
        "    frame_count += 1\n",
        "\n",
        "# Move the remaining images to folder_2\n",
        "for image_file in os.listdir(output_snapshots_folder):\n",
        "    image_path = os.path.join(output_snapshots_folder, image_file)\n",
        "    shutil.move(image_path, os.path.join(output_similar_images_folder, image_file))\n",
        "\n",
        "cap.release()\n",
        "cv2.destroyAllWindows()\n",
        "print(\"Task completed.\")\n"
      ],
      "metadata": {
        "colab": {
          "base_uri": "https://localhost:8080/"
        },
        "id": "FWOKJ1UxJB-_",
        "outputId": "cfb3ef75-fce2-4e3e-dd40-f0c75da4ea2f"
      },
      "execution_count": null,
      "outputs": [
        {
          "output_type": "stream",
          "name": "stderr",
          "text": [
            "Downloading...\n",
            "From: https://drive.google.com/uc?id=13JlxoeE1CAo8zEwJKUrpDtaqO9gtyt-4\n",
            "To: /content/extracted_images/video.mp4\n",
            "100%|██████████| 95.2M/95.2M [00:00<00:00, 126MB/s]\n"
          ]
        },
        {
          "output_type": "stream",
          "name": "stdout",
          "text": [
            "Task completed.\n"
          ]
        }
      ]
    }
  ]
}